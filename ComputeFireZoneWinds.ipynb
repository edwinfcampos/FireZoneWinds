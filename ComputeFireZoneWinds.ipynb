{
 "cells": [
  {
   "cell_type": "markdown",
   "metadata": {},
   "source": [
    "# Code to Display Daily Maximum Winds expected over Fire Danger Zones\n",
    "\n",
    "### Objective: \n",
    "This Python 3 Jupyter notebook calculates the daily maximum wind speed (mph) expected at Fire Danger Climate Zones in California (Zones 1-9, does NOT include the Central Valley). \n",
    "\n",
    "The code should run in about 10 minutes.\n",
    "\n",
    "The result is a map of maximum daily wind speed by zone.\n",
    "\n",
    "### Inputs:\n",
    "WRF_FILE : the WRF model dataset with hourly weather forecasts for a random day, in NetCDF format \n",
    "\n",
    "SHAPE_PATH : Path to folder with the FDCZ (Fire Danger Climate Zone) polygons, as shape files \n",
    "\n",
    "MASK_FILE : land/sea mask file, in NetCDF format\n",
    "\n",
    "### Outputs:\n",
    "OUTPUT_FILE : a map displaying each climate zone color coded by the maximum daily wind speed, in miles per hour.\n",
    "\n",
    "\n",
    "#### Created by Edwin Campos, on 2020 Apr.27: Last modification on 2020 Apr.27 by ecampos.phd@gmail.com\n"
   ]
  },
  {
   "cell_type": "markdown",
   "metadata": {},
   "source": [
    "## Environment Setup"
   ]
  },
  {
   "cell_type": "code",
   "execution_count": 1,
   "metadata": {},
   "outputs": [],
   "source": [
    "# Global Input Variables\n",
    "WRF_FILE = 'wrf_daily_ts_2017-10-08.nc'\n",
    "MASK_FILE='invariant_d01.nc'\n",
    "SHAPE_PATH='./fdcz_pl'\n",
    "OUTPUT_FILE = 'fdcz_max_winds_mph.png'"
   ]
  },
  {
   "cell_type": "code",
   "execution_count": 2,
   "metadata": {},
   "outputs": [],
   "source": [
    "# Dependencies\n",
    "import numpy as np\n",
    "import pandas as pd\n",
    "from netCDF4 import Dataset\n",
    "import geopandas\n",
    "import matplotlib.pyplot as plt"
   ]
  },
  {
   "cell_type": "markdown",
   "metadata": {},
   "source": [
    "## Read NetCDF files\n",
    "\n",
    "References:\n",
    "\n",
    "    https://anaconda.org/anaconda/netcdf4\n",
    "    http://atmos.colostate.edu/~btrabing/Read_WRF.html\n",
    "    https://stackoverflow.com/questions/35297771/wrf-netcdf-file-subset-smaller-array-out-of-dataset-based-on-coordinate-bounda"
   ]
  },
  {
   "cell_type": "code",
   "execution_count": 3,
   "metadata": {},
   "outputs": [],
   "source": [
    "# Input WRF dataset\n",
    "wrf_data = Dataset(WRF_FILE, \"r\")\n",
    "mask_data= Dataset(MASK_FILE, \"r\")"
   ]
  },
  {
   "cell_type": "code",
   "execution_count": 4,
   "metadata": {},
   "outputs": [],
   "source": [
    "# Get the horizontal grid\n",
    "lats = mask_data.variables['XLAT'][:]    # degree_north\n",
    "longs = mask_data.variables['XLONG'][:]  # degree_east"
   ]
  },
  {
   "cell_type": "code",
   "execution_count": 5,
   "metadata": {},
   "outputs": [],
   "source": [
    "# Get the Wind speed\n",
    "u10 = wrf_data.variables['U10'][:]   # U component of wind at 10m, in m/s\n",
    "v10 = wrf_data.variables['V10'][:]   # V component of wind at 10m, in m/s"
   ]
  },
  {
   "cell_type": "markdown",
   "metadata": {},
   "source": [
    "## Read Shape files with GeoPandas\n",
    "\n",
    "Using only Climate zones 1-9 (don’t include the Central Valley). \n",
    "\n",
    "References:\n",
    "\n",
    "    https://pypi.org/project/geopandas/\n",
    "    https://geopandas.org/projections.html\n",
    "            "
   ]
  },
  {
   "cell_type": "code",
   "execution_count": 6,
   "metadata": {},
   "outputs": [],
   "source": [
    "# Ingest dataset\n",
    "geodf = geopandas.read_file(SHAPE_PATH)"
   ]
  },
  {
   "cell_type": "code",
   "execution_count": 7,
   "metadata": {},
   "outputs": [],
   "source": [
    "# Remove  Central Valley zone\n",
    "geodf = geodf.drop(geodf[geodf['FDCZ']=='CV'].index).reset_index()"
   ]
  },
  {
   "cell_type": "code",
   "execution_count": 8,
   "metadata": {},
   "outputs": [],
   "source": [
    "# Convert geometries into Latitude and Longitude\n",
    "geodf_geo = geodf.to_crs(epsg=4326)"
   ]
  },
  {
   "cell_type": "markdown",
   "metadata": {},
   "source": [
    "## Expand Multipolygons into one Polygon per row"
   ]
  },
  {
   "cell_type": "code",
   "execution_count": 9,
   "metadata": {},
   "outputs": [],
   "source": [
    "# Use reset_index to avoid complex indices that would complicate FOR loops\n",
    "geodf_geo_exploded = geodf_geo.explode().reset_index()"
   ]
  },
  {
   "cell_type": "code",
   "execution_count": 10,
   "metadata": {},
   "outputs": [],
   "source": [
    "# Create a new column that combines information on the climate zone and the shape geometry \n",
    "# (to identify geometries comming from a multipolygon)\n",
    "geodf_geo_exploded[\"polygon\"] = geodf_geo_exploded.apply(lambda x: f'{x[\"FDCZ\"]}_{x[\"level_1\"]}', axis=1)"
   ]
  },
  {
   "cell_type": "markdown",
   "metadata": {},
   "source": [
    "## Calculate the maximum daily wind speeds\n",
    "\n",
    "Using the Point in Polygon (Ray Casting) algorithm, to associate WRF grid points to particular Fire Danger Climate Zones.\n",
    "\n",
    "References:\n",
    "    \n",
    "    https://en.wikipedia.org/wiki/Point_in_polygon#Ray_casting_algorithm\n",
    "    \n",
    "    https://automating-gis-processes.github.io/CSC18/lessons/L4/point-in-polygon.html"
   ]
  },
  {
   "cell_type": "code",
   "execution_count": 11,
   "metadata": {},
   "outputs": [],
   "source": [
    "max_winds_df = pd.DataFrame(columns=['polygon'])\n",
    "max_winds_df['polygon'] = geodf_geo_exploded['polygon']\n",
    "max_winds_df['speed'] = np.nan"
   ]
  },
  {
   "cell_type": "code",
   "execution_count": 12,
   "metadata": {},
   "outputs": [
    {
     "name": "stderr",
     "output_type": "stream",
     "text": [
      "/Applications/anaconda/envs/netcdf/lib/python3.7/site-packages/pandas/core/indexing.py:671: SettingWithCopyWarning: \n",
      "A value is trying to be set on a copy of a slice from a DataFrame\n",
      "\n",
      "See the caveats in the documentation: https://pandas.pydata.org/pandas-docs/stable/user_guide/indexing.html#returning-a-view-versus-a-copy\n",
      "  self._setitem_with_indexer(indexer, value)\n"
     ]
    }
   ],
   "source": [
    "# This part should run in less than 9 minutes\n",
    "for wrf_x_indx in range(lats.shape[1]):              # Loop over WRF grid points\n",
    "    for wrf_y_indx in range(lats.shape[2]):\n",
    "        \n",
    "        # Create point shapes from WRF grid point\n",
    "        df_pnt = pd.DataFrame(\n",
    "            {'Latitude': [ lats[ 0,wrf_x_indx,wrf_y_indx] ],\n",
    "             'Longitude':[ longs[0,wrf_x_indx,wrf_y_indx] ] })\n",
    "        geodf_geo_pnt = geopandas.GeoDataFrame(\n",
    "            df_pnt, geometry=geopandas.points_from_xy(df_pnt.Longitude, df_pnt.Latitude))\n",
    "        \n",
    "        # Is this point in the Fire Danger Climatic Zone?\n",
    "        for polygon_indx in range(geodf_geo_exploded.shape[0]):  # Loop over the Fire Danger Climate Zones \n",
    "            which_polygon = str( geodf_geo_exploded['polygon'].iloc[polygon_indx] )\n",
    "            within = geodf_geo_pnt.within(geodf_geo_exploded.loc[polygon_indx,'geometry'])\n",
    "            if within[0]:   # Calculate daily maximum wind speed only if inside a Fire Danger Climate Zone\n",
    "                u10_time = u10[:,wrf_x_indx,wrf_y_indx]\n",
    "                v10_time = v10[:,wrf_x_indx,wrf_y_indx]\n",
    "                speed_time = (u10_time**2 + v10_time**2)**0.5\n",
    "                current_max_wind = max_winds_df['speed'].loc[ max_winds_df['polygon'] == which_polygon ]\n",
    "                current_max_wind = current_max_wind.item()\n",
    "                new_max_wind = max( max(speed_time),current_max_wind )\n",
    "                max_winds_df['speed'].loc[ max_winds_df['polygon'] == which_polygon ] = new_max_wind"
   ]
  },
  {
   "cell_type": "code",
   "execution_count": 13,
   "metadata": {},
   "outputs": [],
   "source": [
    "factor_from_mps_to_mph = 2.23694  # 1 m/s = 2.23694 miles per hour\n",
    "geodf_geo_exploded['MaxWind'] = max_winds_df[\"speed\"]    # In meters/second\n",
    "geodf_geo_exploded['MaxWind_mph'] = max_winds_df[\"speed\"] * factor_from_mps_to_mph  # In miles/hour"
   ]
  },
  {
   "cell_type": "markdown",
   "metadata": {},
   "source": [
    "## Results\n",
    "    - Dataframe with desired values\n",
    "    - Map displaying each climate zone color coded by the maximum daily wind speed. "
   ]
  },
  {
   "cell_type": "code",
   "execution_count": 14,
   "metadata": {},
   "outputs": [
    {
     "name": "stdout",
     "output_type": "stream",
     "text": [
      "   level_0  level_1  index  OBJECTID FDCZ    Shape_Leng    Shape_Area  \\\n",
      "0        0        0      0         1    2  1.390085e+06  1.766655e+10   \n",
      "1        0        1      0         1    2  1.390085e+06  1.766655e+10   \n",
      "2        1        0      1         2    7  7.294358e+05  1.543029e+10   \n",
      "3        2        0      2         3    4  9.584138e+05  9.903732e+09   \n",
      "4        3        0      3         4    8  1.449745e+06  3.008260e+10   \n",
      "5        4        0      4         5    1  7.236206e+05  1.336352e+10   \n",
      "6        5        0      6         7    6  1.499360e+06  3.551770e+10   \n",
      "7        6        0      7         8    5  1.025812e+06  2.345961e+10   \n",
      "8        7        0      8        10    3  1.108385e+06  1.449150e+10   \n",
      "9        7        1      8        10    3  1.108385e+06  1.449150e+10   \n",
      "\n",
      "                                            geometry polygon    MaxWind  \\\n",
      "0  POLYGON ((-122.77477 38.82187, -122.77270 38.8...     2_0        NaN   \n",
      "1  POLYGON ((-122.77477 38.82187, -122.77277 38.7...     2_1  24.581490   \n",
      "2  POLYGON ((-121.02712 38.50817, -121.11282 38.4...     7_0  22.123005   \n",
      "3  POLYGON ((-121.68289 36.85452, -121.68208 36.8...     4_0  14.559490   \n",
      "4  POLYGON ((-121.44771 41.25871, -121.44625 41.2...     8_0  22.988955   \n",
      "5  POLYGON ((-122.97653 40.22560, -122.97649 40.2...     1_0  26.769245   \n",
      "6  POLYGON ((-118.64781 34.89160, -118.64169 34.9...     6_0  21.517227   \n",
      "7  POLYGON ((-121.28621 37.18223, -121.28596 37.1...     5_0  14.552298   \n",
      "8  POLYGON ((-121.91350 38.04193, -121.81022 37.9...     3_0  17.541578   \n",
      "9  POLYGON ((-122.77477 38.82187, -122.76907 38.8...     3_1  24.679468   \n",
      "\n",
      "   MaxWind_mph  \n",
      "0          NaN  \n",
      "1    54.987317  \n",
      "2    49.487835  \n",
      "3    32.568706  \n",
      "4    51.424912  \n",
      "5    59.881195  \n",
      "6    48.132746  \n",
      "7    32.552617  \n",
      "8    39.239458  \n",
      "9    55.206489  \n"
     ]
    }
   ],
   "source": [
    "print(geodf_geo_exploded)"
   ]
  },
  {
   "cell_type": "code",
   "execution_count": 15,
   "metadata": {},
   "outputs": [
    {
     "name": "stderr",
     "output_type": "stream",
     "text": [
      "/Applications/anaconda/envs/netcdf/lib/python3.7/site-packages/matplotlib/colors.py:527: RuntimeWarning: invalid value encountered in less\n",
      "  xa[xa < 0] = -1\n"
     ]
    },
    {
     "data": {
      "image/png": "[encoded data removed]",
      "text/plain": [
       "<Figure size 432x288 with 2 Axes>"
      ]
     },
     "metadata": {
      "needs_background": "light"
     },
     "output_type": "display_data"
    }
   ],
   "source": [
    "# Visualize exploded geometries in Lat Lon coordinates map\n",
    "ax = geodf_geo_exploded.plot(column='MaxWind_mph',legend=True)\n",
    "ax.set_title(\"Maximum Daily Wind Speeds (mph)\\n at Fire Danger Climate Zones\")\n",
    "ax.set_xlabel(\"Longitude (deg.East)\")\n",
    "ax.set_ylabel(\"Latitude (deg.North)\")\n",
    "\n",
    "# Save figure as PNG file\n",
    "plt.savefig(OUTPUT_FILE)"
   ]
  },
  {
   "cell_type": "code",
   "execution_count": null,
   "metadata": {},
   "outputs": [],
   "source": []
  }
 ],
 "metadata": {
  "kernelspec": {
   "display_name": "Python 3",
   "language": "python",
   "name": "python3"
  },
  "language_info": {
   "codemirror_mode": {
    "name": "ipython",
    "version": 3
   },
   "file_extension": ".py",
   "mimetype": "text/x-python",
   "name": "python",
   "nbconvert_exporter": "python",
   "pygments_lexer": "ipython3",
   "version": "3.7.7"
  }
 },
 "nbformat": 4,
 "nbformat_minor": 2
}
